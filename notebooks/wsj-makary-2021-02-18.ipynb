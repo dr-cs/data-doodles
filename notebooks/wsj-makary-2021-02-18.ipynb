{
 "cells": [
  {
   "cell_type": "code",
   "execution_count": 27,
   "id": "dental-attachment",
   "metadata": {},
   "outputs": [
    {
     "output_type": "stream",
     "name": "stdout",
     "text": [
      "Reported case rate:                                                    0.0852\nPopulation fatality rate (proportion of total population who die):     0.0015\nReported case fatality rate (proportion of infected who die            0.0177\nTrue cases (reported_cases * 4.6):                                  181752155\nTrue case fatality rate :                                              0.0027\nTrue case rate (true_cases / population):                              0.5538\nTrue case rate (ratio method using Makary's .0023 CFR):                0.6562\n"
     ]
    }
   ],
   "source": [
    "# Verifying numbers from https://www.wsj.com/articles/well-have-herd-immunity-by-april-11613669731\n",
    "# Covd numbers collected on 2021-02-19 from https://coronavirus.jhu.edu/map.html\n",
    "# US population from first Google hit\n",
    "\n",
    "pop = 328.2e6\n",
    "reported_cases = 27961870\n",
    "\n",
    "# Current reporting rate is 1 to 4.6 https://www.cdc.gov/coronavirus/2019-ncov/cases-updates/burden.html\n",
    "# Makary claims that weighted average over course of pandemic is 1 to 6.5\n",
    "true_cases = reported_cases * 6.5\n",
    "\n",
    "deaths = 495334\n",
    "\n",
    "reported_case_rate = reported_cases / pop\n",
    "reported_cfr = deaths / reported_cases\n",
    "true_cfr = deaths / true_cases\n",
    "true_case_rate = true_cases / pop\n",
    "pfr = deaths / pop\n",
    "\n",
    "# Makary's CFR, which I assume is some weighted average of CDCs age-group CFR esimtates\n",
    "makary_cfr = .0023\n",
    "true_cases_ratio_method = (pfr * pop) / makary_cfr\n",
    "true_case_rate_ratio_method = true_cases_ratio_method / pop\n",
    "\n",
    "print(f\"Reported case rate:                                                {reported_case_rate:>10.4f}\")\n",
    "print(f\"Population fatality rate (proportion of total population who die): {pfr:>10.4f}\")\n",
    "print(f\"Reported case fatality rate (proportion of infected who die        {reported_cfr:>10.4f}\")\n",
    "print(f\"True cases (reported_cases * 4.6):                                 {true_cases:>10.0f}\")\n",
    "print(f\"True case fatality rate :                                          {true_cfr:>10.4f}\")\n",
    "print(f\"True case rate (true_cases / population):                          {true_case_rate:>10.4f}\")\n",
    "print(f\"True case rate (ratio method using Makary's .0023 CFR):            {true_case_rate_ratio_method:>10.4f}\")"
   ]
  },
  {
   "cell_type": "code",
   "execution_count": null,
   "id": "cross-volleyball",
   "metadata": {},
   "outputs": [],
   "source": []
  }
 ],
 "metadata": {
  "kernelspec": {
   "name": "python3",
   "display_name": "Python 3.9.0 64-bit",
   "metadata": {
    "interpreter": {
     "hash": "aee8b7b246df8f9039afb4144a1f6fd8d2ca17a180786b69acc140d282b71a49"
    }
   }
  },
  "language_info": {
   "codemirror_mode": {
    "name": "ipython",
    "version": 3
   },
   "file_extension": ".py",
   "mimetype": "text/x-python",
   "name": "python",
   "nbconvert_exporter": "python",
   "pygments_lexer": "ipython3",
   "version": "3.9.0-final"
  }
 },
 "nbformat": 4,
 "nbformat_minor": 5
}